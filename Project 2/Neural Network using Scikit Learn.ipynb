{
 "cells": [
  {
   "cell_type": "markdown",
   "metadata": {},
   "source": [
    "<h1>CSE 574 - Introduction to Machine Learning</h1>"
   ]
  },
  {
   "cell_type": "markdown",
   "metadata": {},
   "source": [
    "<h3> Importing Libraries</h3>"
   ]
  },
  {
   "cell_type": "code",
   "execution_count": 27,
   "metadata": {},
   "outputs": [
    {
     "name": "stdout",
     "output_type": "stream",
     "text": [
      "Requirement already satisfied: keras==2.3.0 in ./anaconda3/lib/python3.7/site-packages (2.3.0)\n",
      "Requirement already satisfied: pyyaml in ./anaconda3/lib/python3.7/site-packages (from keras==2.3.0) (5.1.1)\n",
      "Requirement already satisfied: numpy>=1.9.1 in ./anaconda3/lib/python3.7/site-packages (from keras==2.3.0) (1.16.4)\n",
      "Requirement already satisfied: scipy>=0.14 in ./anaconda3/lib/python3.7/site-packages (from keras==2.3.0) (1.4.1)\n",
      "Requirement already satisfied: keras-preprocessing>=1.0.5 in ./anaconda3/lib/python3.7/site-packages (from keras==2.3.0) (1.1.0)\n",
      "Requirement already satisfied: six>=1.9.0 in ./anaconda3/lib/python3.7/site-packages (from keras==2.3.0) (1.12.0)\n",
      "Requirement already satisfied: keras-applications>=1.0.6 in ./anaconda3/lib/python3.7/site-packages (from keras==2.3.0) (1.0.8)\n",
      "Requirement already satisfied: h5py in ./anaconda3/lib/python3.7/site-packages (from keras==2.3.0) (2.9.0)\n"
     ]
    }
   ],
   "source": [
    "#Importing library\n",
    "import tensorflow as tf\n",
    "import numpy as np\n",
    "import pandas as pd\n",
    "import keras\n",
    "from keras.utils import np_utils\n",
    "from sklearn import metrics\n",
    "%matplotlib inline\n",
    "from tensorflow.python.keras.layers import Dense\n",
    "from tensorflow.python.keras import Sequential\n",
    "!pip install keras==2.3.0\n",
    "from keras.optimizers import SGD\n",
    "from keras import regularizers\n",
    "from keras.regularizers import l2\n",
    "from keras.datasets import mnist\n",
    "from keras.models import Sequential\n",
    "from keras.layers import Dense\n",
    "from keras.layers import Dropout\n",
    "from keras.layers import Flatten\n",
    "from keras.layers.convolutional import Conv2D\n",
    "from keras.layers.convolutional import MaxPooling2D\n",
    "from keras.utils import np_utils\n",
    "from keras import optimizers\n",
    "import keras.backend as K"
   ]
  },
  {
   "cell_type": "markdown",
   "metadata": {},
   "source": [
    "<h3>Importing Dataset</h3>"
   ]
  },
  {
   "cell_type": "code",
   "execution_count": 31,
   "metadata": {},
   "outputs": [],
   "source": [
    "from keras.datasets import fashion_mnist\n",
    "(X_train,y_train),(X_test,y_test)=fashion_mnist.load_data()"
   ]
  },
  {
   "cell_type": "markdown",
   "metadata": {},
   "source": [
    "<h3>Data Pre-processing</h3>"
   ]
  },
  {
   "cell_type": "code",
   "execution_count": 32,
   "metadata": {},
   "outputs": [],
   "source": [
    "X_train = X_train / 255.0\n",
    "X_test = X_test / 255.0"
   ]
  },
  {
   "cell_type": "code",
   "execution_count": 33,
   "metadata": {},
   "outputs": [],
   "source": [
    "#Partioning the dataset\n",
    "X_test = X_train[-10000:]\n",
    "y_test = y_train[-10000:]\n",
    "X_train = X_train[:X_train.shape[0]-10000]\n",
    "y_train = y_train[:y_train.shape[0]-10000]"
   ]
  },
  {
   "cell_type": "code",
   "execution_count": 34,
   "metadata": {},
   "outputs": [],
   "source": [
    "#Dividing the dataset into group of 100 of each class\n",
    "value = {}\n",
    "for i in range(10):\n",
    "    value[i] = list()\n",
    "\n",
    "for i in range(len(X_train)):\n",
    "    value[y_train[i]].append(X_train[i])\n",
    "\n",
    "train_x = list()\n",
    "train_y = list()\n",
    "\n",
    "for i in range(len(value)):\n",
    "    for j in range(100):\n",
    "        train_x.append(value[i][j])\n",
    "        train_y.append(i)\n",
    "\n",
    "train_x = np.asarray(train_x)\n",
    "train_y = np.asarray(train_y)\n",
    "train_y = np_utils.to_categorical(train_y)\n",
    "y_test= np_utils.to_categorical(y_test)"
   ]
  },
  {
   "cell_type": "code",
   "execution_count": 35,
   "metadata": {},
   "outputs": [],
   "source": [
    "learning_rate=[]\n",
    "class LearningSpeed(tf.keras.callbacks.Callback):\n",
    "    def on_epoch_end(self,epoch,logs={}):\n",
    "        optimizer = self.model.optimizer\n",
    "        Intial_rate =tf.cast(optimizer.lr, tf.float32)\n",
    "        Decay= 0.01\n",
    "        iterations= tf.cast(optimizer.iterations, tf.float32)\n",
    "        Intial_rate = (Intial_rate / (1. + Decay * iterations))\n",
    "        learning_rate.append(tf.keras.backend.eval(Intial_rate))"
   ]
  },
  {
   "cell_type": "code",
   "execution_count": 36,
   "metadata": {},
   "outputs": [
    {
     "name": "stderr",
     "output_type": "stream",
     "text": [
      "/Users/jyoti/anaconda3/lib/python3.7/site-packages/ipykernel_launcher.py:4: UserWarning: Update your `Dense` call to the Keras 2 API: `Dense(30, kernel_initializer=\"normal\", activation=\"sigmoid\", kernel_regularizer=<keras.reg...)`\n",
      "  after removing the cwd from sys.path.\n"
     ]
    },
    {
     "name": "stdout",
     "output_type": "stream",
     "text": [
      "Model: \"sequential_1\"\n",
      "_________________________________________________________________\n",
      "Layer (type)                 Output Shape              Param #   \n",
      "=================================================================\n",
      "flatten_1 (Flatten)          (None, 784)               0         \n",
      "_________________________________________________________________\n",
      "dense_1 (Dense)              (None, 30)                23550     \n",
      "_________________________________________________________________\n",
      "dense_2 (Dense)              (None, 10)                310       \n",
      "=================================================================\n",
      "Total params: 23,860\n",
      "Trainable params: 23,860\n",
      "Non-trainable params: 0\n",
      "_________________________________________________________________\n",
      "WARNING:tensorflow:From /Users/jyoti/anaconda3/lib/python3.7/site-packages/keras/backend/tensorflow_backend.py:422: The name tf.global_variables is deprecated. Please use tf.compat.v1.global_variables instead.\n",
      "\n"
     ]
    }
   ],
   "source": [
    "#Model Define\n",
    "model = Sequential()\n",
    "model.add(Flatten(input_shape=(28,28)))\n",
    "model.add(Dense(30, kernel_initializer='normal', activation='sigmoid',W_regularizer=l2(5)))\n",
    "model.add(Dense(10, kernel_initializer='normal', activation='softmax'))\n",
    "model.summary()\n",
    "model.compile(loss='categorical_crossentropy', optimizer=SGD(lr=0.1), metrics=['accuracy'])\n",
    "callbacks_list=[LearningSpeed()]\n",
    "history=model.fit(train_x, train_y, validation_data=(X_test, y_test), epochs=30, batch_size=10,callbacks=callbacks_list, verbose = 0)"
   ]
  },
  {
   "cell_type": "code",
   "execution_count": 43,
   "metadata": {},
   "outputs": [
    {
     "name": "stdout",
     "output_type": "stream",
     "text": [
      "10000/10000 [==============================] - 1s 99us/step\n",
      "97.00000286102295\n"
     ]
    }
   ],
   "source": [
    "#Accuracy Calculation\n",
    "test_loss,test_acc = model.evaluate(X_test,y_test)\n",
    "print(test_acc*1000)"
   ]
  },
  {
   "cell_type": "code",
   "execution_count": 38,
   "metadata": {},
   "outputs": [
    {
     "data": {
      "image/png": "[encoded data removed]",
      "text/plain": [
       "<Figure size 432x288 with 1 Axes>"
      ]
     },
     "metadata": {
      "needs_background": "light"
     },
     "output_type": "display_data"
    }
   ],
   "source": [
    "# #Plot between Training loss vs epoch\n",
    "%matplotlib inline\n",
    "import matplotlib.pyplot as plt\n",
    "plt.plot(history.history['loss'])\n",
    "plt.ylabel('Training loss')\n",
    "plt.xlabel('epoch')\n",
    "plt.show()"
   ]
  },
  {
   "cell_type": "code",
   "execution_count": 39,
   "metadata": {},
   "outputs": [
    {
     "data": {
      "image/png": "[encoded data removed]",
      "text/plain": [
       "<Figure size 432x288 with 1 Axes>"
      ]
     },
     "metadata": {
      "needs_background": "light"
     },
     "output_type": "display_data"
    }
   ],
   "source": [
    "# #Plot between Validation Loss vs epoch\n",
    "plt.plot(history.history['val_loss'])\n",
    "plt.ylabel('Valildation loss')\n",
    "plt.xlabel('epoch')\n",
    "plt.show()"
   ]
  },
  {
   "cell_type": "code",
   "execution_count": 40,
   "metadata": {},
   "outputs": [
    {
     "data": {
      "image/png": "[encoded data removed]",
      "text/plain": [
       "<Figure size 432x288 with 1 Axes>"
      ]
     },
     "metadata": {
      "needs_background": "light"
     },
     "output_type": "display_data"
    }
   ],
   "source": [
    "#Plot of Training loss vs Testing loss\n",
    "plt.plot(history.history['loss'])\n",
    "plt.plot(history.history['val_loss'])\n",
    "plt.ylabel('loss')\n",
    "plt.xlabel('epoch')\n",
    "plt.legend(['train', 'test'], loc='upper right')\n",
    "plt.title('criterion function on training/testing data set')\n",
    "plt.show()"
   ]
  },
  {
   "cell_type": "code",
   "execution_count": 41,
   "metadata": {},
   "outputs": [
    {
     "data": {
      "image/png": "[encoded data removed]",
      "text/plain": [
       "<Figure size 432x288 with 1 Axes>"
      ]
     },
     "metadata": {
      "needs_background": "light"
     },
     "output_type": "display_data"
    }
   ],
   "source": [
    "#Plot of Learning rate vs epoch\n",
    "plt.xlabel('Epoch')\n",
    "plt.ylabel('Learning Speed')\n",
    "plt.title('learning speed of the hidden layer')\n",
    "plt.plot(learning_rate)\n",
    "plt.show()"
   ]
  }
 ],
 "metadata": {
  "kernelspec": {
   "display_name": "Python 3",
   "language": "python",
   "name": "python3"
  },
  "language_info": {
   "codemirror_mode": {
    "name": "ipython",
    "version": 3
   },
   "file_extension": ".py",
   "mimetype": "text/x-python",
   "name": "python",
   "nbconvert_exporter": "python",
   "pygments_lexer": "ipython3",
   "version": "3.7.3"
  }
 },
 "nbformat": 4,
 "nbformat_minor": 2
}
