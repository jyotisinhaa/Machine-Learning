{
 "cells": [
  {
   "cell_type": "markdown",
   "metadata": {},
   "source": [
    "<h1>CSE 574 - Introduction to Machine Learning</h1>"
   ]
  },
  {
   "cell_type": "markdown",
   "metadata": {},
   "source": [
    "<h3> Importing Libraries</h3>"
   ]
  },
  {
   "cell_type": "code",
   "execution_count": 1,
   "metadata": {},
   "outputs": [],
   "source": [
    "import os\n",
    "import numpy as np\n",
    "import pandas as pd\n",
    "from matplotlib import pyplot as plt\n",
    "import matplotlib\n",
    "import scipy\n",
    "from sklearn.metrics import confusion_matrix\n",
    "from sklearn.metrics import classification_report\n",
    "from sklearn.metrics import accuracy_score\n",
    "from sklearn.model_selection import train_test_split"
   ]
  },
  {
   "cell_type": "markdown",
   "metadata": {},
   "source": [
    "<h3>Importing Dataset</h3>"
   ]
  },
  {
   "cell_type": "code",
   "execution_count": 2,
   "metadata": {},
   "outputs": [
    {
     "name": "stderr",
     "output_type": "stream",
     "text": [
      "Using TensorFlow backend.\n"
     ]
    }
   ],
   "source": [
    "from keras.datasets import fashion_mnist\n",
    "(X_train,Y_train),(X_test,Y_test)=fashion_mnist.load_data()"
   ]
  },
  {
   "cell_type": "markdown",
   "metadata": {},
   "source": [
    "<h3>Data Pre-processing</h3>"
   ]
  },
  {
   "cell_type": "code",
   "execution_count": 3,
   "metadata": {},
   "outputs": [],
   "source": [
    "Y_test_new=Y_test\n",
    "X_test_new=X_test"
   ]
  },
  {
   "cell_type": "code",
   "execution_count": 4,
   "metadata": {},
   "outputs": [
    {
     "data": {
      "text/plain": [
       "(60000, 1)"
      ]
     },
     "execution_count": 4,
     "metadata": {},
     "output_type": "execute_result"
    }
   ],
   "source": [
    "#Reshaping of dataset\n",
    "Y_train=Y_train.reshape(-1,1)\n",
    "X_train=X_train.reshape(60000,784)\n",
    "\n",
    "X_test=X_test.reshape(-1,784)\n",
    "Y_test=Y_test.reshape(-1,1)\n",
    "Y_train.shape"
   ]
  },
  {
   "cell_type": "code",
   "execution_count": 5,
   "metadata": {},
   "outputs": [],
   "source": [
    "#Data Normalisation\n",
    "X_train=X_train/255\n",
    "X_test=X_test/255"
   ]
  },
  {
   "cell_type": "code",
   "execution_count": 6,
   "metadata": {},
   "outputs": [],
   "source": [
    "#Splitting dataset into training and testing dataset\n",
    "X_test, X_val, Y_test, Y_val = train_test_split(X_test, Y_test, train_size=0.50, random_state=100) #splitting the Test data according to Validate and Test"
   ]
  },
  {
   "cell_type": "code",
   "execution_count": 7,
   "metadata": {},
   "outputs": [
    {
     "data": {
      "text/plain": [
       "(60000, 784)"
      ]
     },
     "execution_count": 7,
     "metadata": {},
     "output_type": "execute_result"
    }
   ],
   "source": [
    "X_train.shape"
   ]
  },
  {
   "cell_type": "code",
   "execution_count": 8,
   "metadata": {},
   "outputs": [
    {
     "data": {
      "text/plain": [
       "(60000, 1)"
      ]
     },
     "execution_count": 8,
     "metadata": {},
     "output_type": "execute_result"
    }
   ],
   "source": [
    "Y_train.shape"
   ]
  },
  {
   "cell_type": "code",
   "execution_count": 9,
   "metadata": {},
   "outputs": [
    {
     "data": {
      "text/plain": [
       "(5000, 784)"
      ]
     },
     "execution_count": 9,
     "metadata": {},
     "output_type": "execute_result"
    }
   ],
   "source": [
    "X_val.shape"
   ]
  },
  {
   "cell_type": "code",
   "execution_count": 10,
   "metadata": {},
   "outputs": [
    {
     "data": {
      "text/plain": [
       "(60000, 1)"
      ]
     },
     "execution_count": 10,
     "metadata": {},
     "output_type": "execute_result"
    }
   ],
   "source": [
    "Y_train=Y_train.reshape(-1,1)\n",
    "Y_train.shape"
   ]
  },
  {
   "cell_type": "code",
   "execution_count": 11,
   "metadata": {},
   "outputs": [
    {
     "data": {
      "text/plain": [
       "784"
      ]
     },
     "execution_count": 11,
     "metadata": {},
     "output_type": "execute_result"
    }
   ],
   "source": [
    "input_size=X_train.shape[1]\n",
    "input_size"
   ]
  },
  {
   "cell_type": "code",
   "execution_count": 12,
   "metadata": {},
   "outputs": [],
   "source": [
    "hidden_size=100"
   ]
  },
  {
   "cell_type": "code",
   "execution_count": 13,
   "metadata": {},
   "outputs": [],
   "source": [
    "def onehotscratch(Y_train):\n",
    "    y_hotenc=np.zeros((Y_train.shape[0],10))\n",
    "    for i in range(Y_train.shape[0]):\n",
    "        value=Y_train[i][0]\n",
    "        y_hotenc[i][value]=1\n",
    "    return y_hotenc"
   ]
  },
  {
   "cell_type": "code",
   "execution_count": 14,
   "metadata": {},
   "outputs": [],
   "source": [
    "Y_hotenc_train=onehotscratch(Y_train)\n",
    "Y_hotenc_test=onehotscratch(Y_test)\n",
    "Y_hotenc_val=onehotscratch(Y_val)"
   ]
  },
  {
   "cell_type": "markdown",
   "metadata": {},
   "source": [
    "<h3>Model Implementation</h3>"
   ]
  },
  {
   "cell_type": "code",
   "execution_count": 15,
   "metadata": {},
   "outputs": [],
   "source": [
    "def sigmoid(z):     #Sigmoid Function - This is actual logisitc regression function that we will be using to return predicted y as per corresponding x values\n",
    "    return 1 / (1 + np.exp(-z))\n",
    "\n",
    "\n",
    "def softmax(x):     #Softmax function\n",
    "    e_x = np.exp(x)\n",
    "    return e_x / e_x.sum(axis=1).reshape(-1,1) \n",
    "\n",
    "\n",
    "epochs_array=[]\n",
    "def model_function(X_train,Y_train,epochs,learningrate,input_size,hidden_size): #the function we will be using to train the data and changing hyperparameters\n",
    "    global w,b,epochs_array,learningrate_array,epochs_array,losstrack,accuracies,b1,b2,ans1\n",
    "    losstrack = []  #used for generating the cost function\n",
    "    accuracies=[]\n",
    "    ans1=[]\n",
    "    W1 = 0.01 * np.random.randn(input_size, hidden_size)\n",
    "    W2 = 0.01 * np.random.randn(W1.shape[1],10)\n",
    "    \n",
    "    b1=0\n",
    "    b2=0\n",
    "    \n",
    "    #Number of Training instances\n",
    "    for epoch in range(epochs):\n",
    "        z1 = np.dot(X_train, W1) + b1\n",
    "        a1 = sigmoid(z1)\n",
    "        z2 = np.dot(a1,W2)+b2\n",
    "        a2=softmax(z2)\n",
    "\n",
    "        \n",
    "        cost = -np.sum(np.log(a2)*(Y_train),axis=1) #cross entropy\n",
    "        \n",
    "\n",
    "        losstrack.append(0.5*(np.mean(cost)))\n",
    "        \n",
    "        y_temp1=1-a1\n",
    "        y_temp2=a2-Y_train               \n",
    "                       \n",
    "        delta_w2=np.dot(a1.T,y_temp2)\n",
    "        multiply1=np.dot(y_temp2,W2.T)\n",
    "        multiply2=a1*y_temp1\n",
    "        multiply3=multiply1*multiply2\n",
    "        multiply3.shape               \n",
    "        delta_w1=np.dot(X_train.T,multiply3)               \n",
    "                       \n",
    "        W1 = W1 - learningrate * delta_w1\n",
    "        \n",
    "        W2 = W2 - learningrate * delta_w2\n",
    "        \n",
    "    ans=predict_function(a2)\n",
    "    return ans,W1,W2\n",
    "\n",
    "\n",
    " # Predict function to predict y for a generated (a2) and X_value   \n",
    "def predict_function(a2):\n",
    "    preds = []\n",
    "    for row in a2:\n",
    "        preds.append(np.argmax(row))\n",
    "    return preds\n",
    "  \n",
    "#accuracy check\n",
    "def accuracy_check(Y_predicted,Y_train):\n",
    "    counts=0\n",
    "    Y_Pred=(np.asarray(Y_predicted)).reshape(-1,1)\n",
    "    for i in range(Y_Pred.shape[0]):\n",
    "        if(Y_Pred[i]==Y_train[i]):\n",
    "              counts=counts+1   \n",
    "    accuracy=counts/Y_Pred.shape[0]  \n",
    "    return accuracy"
   ]
  },
  {
   "cell_type": "markdown",
   "metadata": {},
   "source": [
    "<h3>Model Prediction</h3>"
   ]
  },
  {
   "cell_type": "code",
   "execution_count": 16,
   "metadata": {},
   "outputs": [
    {
     "name": "stdout",
     "output_type": "stream",
     "text": [
      "Accuracy with training data is:  0.85035 \n",
      "\n",
      "Accuracy with validation data is:  0.7314 \n",
      "\n",
      "\n"
     ]
    },
    {
     "data": {
      "text/plain": [
       "<matplotlib.legend.Legend at 0x10a8dc6a0>"
      ]
     },
     "execution_count": 16,
     "metadata": {},
     "output_type": "execute_result"
    },
    {
     "data": {
      "image/png": "[encoded data removed]",
      "text/plain": [
       "<Figure size 432x288 with 1 Axes>"
      ]
     },
     "metadata": {
      "needs_background": "light"
     },
     "output_type": "display_data"
    }
   ],
   "source": [
    "## Learning rate 0.00003 and epochs=800\n",
    "\n",
    "################################ Training Data ########################################################\n",
    "Y_predicted,Final_W1,Final_W2=model_function(X_train,Y_hotenc_train,500,0.00003,input_size,hidden_size)\n",
    "accucheck=accuracy_check(Y_predicted,Y_train)\n",
    "print(\"Accuracy with training data is: \",accucheck,\"\\n\")\n",
    "plt.title('Cost VS Epochs')\n",
    "plt.xlabel('Number of epochs')\n",
    "plt.ylabel('Cost')\n",
    "plt.plot(losstrack,color='skyblue',label = \"Training Data loss\")\n",
    "###############################Validation data###########################################\n",
    "Y_predicted,Final_W1,Final_W2=model_function(X_val,Y_hotenc_val,500,0.00003,input_size,hidden_size)\n",
    "accucheck=accuracy_check(Y_predicted,Y_val)\n",
    "print(\"Accuracy with validation data is: \",accucheck,\"\\n\\n\")\n",
    "predicted_Y_val=(predict_function(X_val))\n",
    "plt.plot(losstrack,color='red',label = \"Validation Data loss\")\n",
    "plt.legend()"
   ]
  },
  {
   "cell_type": "code",
   "execution_count": 21,
   "metadata": {},
   "outputs": [
    {
     "name": "stdout",
     "output_type": "stream",
     "text": [
      "Accuracy with training data is:  0.8608666666666667 \n",
      "\n",
      "Accuracy with validation data is:  0.7686 \n",
      "\n",
      "\n"
     ]
    },
    {
     "data": {
      "text/plain": [
       "<matplotlib.legend.Legend at 0x11af7a7b8>"
      ]
     },
     "execution_count": 21,
     "metadata": {},
     "output_type": "execute_result"
    },
    {
     "data": {
      "image/png": "[encoded data removed]",
      "text/plain": [
       "<Figure size 432x288 with 1 Axes>"
      ]
     },
     "metadata": {
      "needs_background": "light"
     },
     "output_type": "display_data"
    }
   ],
   "source": [
    "## Learning rate 0.00003 and epochs=800\n",
    "################################ Training Data ########################################################\n",
    "Y_predicted,Final_W1,Final_W2=model_function(X_train,Y_hotenc_train,800,0.00003,input_size,hidden_size)\n",
    "accucheck=accuracy_check(Y_predicted,Y_train)\n",
    "print(\"Accuracy with training data is: \",accucheck,\"\\n\")\n",
    "plt.title('Cost VS Epochs')\n",
    "plt.xlabel('Number of epochs')\n",
    "plt.ylabel('Cost')\n",
    "plt.plot(losstrack,color='skyblue',label = \"Training Data loss\")\n",
    "###############################Validation data###########################################\n",
    "Y_predicted,Final_W1,Final_W2=model_function(X_val,Y_hotenc_val,800,0.00003,input_size,hidden_size)\n",
    "accucheck=accuracy_check(Y_predicted,Y_val)\n",
    "print(\"Accuracy with validation data is: \",accucheck,\"\\n\\n\")\n",
    "predicted_Y_val=(predict_function(X_val))\n",
    "plt.plot(losstrack,color='red',label = \"Validation Data loss\")\n",
    "plt.legend()"
   ]
  },
  {
   "cell_type": "code",
   "execution_count": 23,
   "metadata": {},
   "outputs": [
    {
     "name": "stdout",
     "output_type": "stream",
     "text": [
      "Accuracy with training data is:  0.8671 \n",
      "\n",
      "Accuracy with validation data is:  0.8358 \n",
      "\n",
      "\n"
     ]
    },
    {
     "data": {
      "text/plain": [
       "<matplotlib.legend.Legend at 0x11af21278>"
      ]
     },
     "execution_count": 23,
     "metadata": {},
     "output_type": "execute_result"
    },
    {
     "data": {
      "image/png": "[encoded data removed]",
      "text/plain": [
       "<Figure size 432x288 with 1 Axes>"
      ]
     },
     "metadata": {
      "needs_background": "light"
     },
     "output_type": "display_data"
    }
   ],
   "source": [
    "## Learning rate 0.00003 and epochs=1000\n",
    "################################ Training Data ########################################################\n",
    "Y_predicted,Final_W1,Final_W2=model_function(X_train,Y_hotenc_train,1000,0.00003,input_size,hidden_size)\n",
    "accucheck=accuracy_check(Y_predicted,Y_train)\n",
    "print(\"Accuracy with training data is: \",accucheck,\"\\n\")\n",
    "plt.title('Cost VS Epochs')\n",
    "plt.xlabel('Number of epochs')\n",
    "plt.ylabel('Cost')\n",
    "plt.plot(losstrack,color='skyblue',label = \"Training Data loss\")\n",
    "###############################Validation data###########################################\n",
    "Y_predicted,Dummy_W1,Dummy_W2=model_function(X_val,Y_hotenc_val,1000,0.00006,input_size,hidden_size)\n",
    "accucheck=accuracy_check(Y_predicted,Y_val)\n",
    "print(\"Accuracy with validation data is: \",accucheck,\"\\n\\n\")\n",
    "predicted_Y_val=(predict_function(X_val))\n",
    "plt.plot(losstrack,color='red',label = \"Validation Data loss\")\n",
    "plt.legend()\n"
   ]
  },
  {
   "cell_type": "code",
   "execution_count": 24,
   "metadata": {},
   "outputs": [
    {
     "name": "stdout",
     "output_type": "stream",
     "text": [
      "Accuracy with test data is:  85.88 %\n"
     ]
    }
   ],
   "source": [
    "################################ Test Data ########################################################\n",
    "#Y_predicted,Dummy_W1,Dummy_W2=model_function(X_test,Y_hotenc_test,1,0.00001,input_size,hidden_size)\n",
    "\n",
    "z1 = np.dot(X_test, Final_W1)\n",
    "a1 = sigmoid(z1)\n",
    "z2 = np.dot(a1,Final_W2)\n",
    "a2=softmax(z2)\n",
    "\n",
    "Y_predicted=predict_function(a2)\n",
    "\n",
    "accucheck=accuracy_check(Y_predicted,Y_test)\n",
    "print(\"Accuracy with test data is: \",accucheck*100,\"%\")"
   ]
  }
 ],
 "metadata": {
  "kernelspec": {
   "display_name": "Python 3",
   "language": "python",
   "name": "python3"
  },
  "language_info": {
   "codemirror_mode": {
    "name": "ipython",
    "version": 3
   },
   "file_extension": ".py",
   "mimetype": "text/x-python",
   "name": "python",
   "nbconvert_exporter": "python",
   "pygments_lexer": "ipython3",
   "version": "3.7.3"
  }
 },
 "nbformat": 4,
 "nbformat_minor": 2
}
