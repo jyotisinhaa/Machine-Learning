{
 "cells": [
  {
   "cell_type": "code",
   "execution_count": 1,
   "metadata": {},
   "outputs": [],
   "source": [
    "import pandas as pd\n",
    "import numpy as np\n",
    "import matplotlib.pyplot as plt"
   ]
  },
  {
   "cell_type": "code",
   "execution_count": 2,
   "metadata": {},
   "outputs": [],
   "source": [
    "df = pd.read_csv(\"wdbc.dataset\",header=None) # Importing of dataset \n",
    "# df.head(5)# Printing first five values\n",
    "#df.drop([0],axis=1)# Dropping the Patient Id"
   ]
  },
  {
   "cell_type": "code",
   "execution_count": 3,
   "metadata": {},
   "outputs": [],
   "source": [
    "y=df[1]#labels\n",
    "x=df.iloc[:,2:]# Putting the features into x\n",
    "y=df[1].map({'M':1,'B':0})# Mapping 'B' to 0 and 'M' to 1"
   ]
  },
  {
   "cell_type": "markdown",
   "metadata": {},
   "source": [
    "<h3>DATA PARTIONING</h3>"
   ]
  },
  {
   "cell_type": "code",
   "execution_count": 4,
   "metadata": {},
   "outputs": [],
   "source": [
    "from sklearn.model_selection import train_test_split                        # Splitting the dataset\n",
    "X_train,X_test,y_train,y_test=train_test_split(x,y,test_size=0.1,random_state=10)\n",
    "\n",
    "X_train,X_val,y_train,y_val=train_test_split(X_train,y_train,test_size=0.1,random_state=10)\n",
    "# print(X_train.shape)"
   ]
  },
  {
   "cell_type": "markdown",
   "metadata": {},
   "source": [
    "<h3>Normalization</h3>"
   ]
  },
  {
   "cell_type": "code",
   "execution_count": 5,
   "metadata": {},
   "outputs": [],
   "source": [
    "def Normalize(d):               #Normalizing the dataset\n",
    "    mean = d.mean()\n",
    "    standard_error =d.std()\n",
    "    return ((d - mean)/standard_error)\n",
    "X_train_normalized= Normalize(X_train)\n",
    "X_test_normalized = Normalize(X_test)\n",
    "X_val_normalized = Normalize(X_val)\n",
    "# print(X_train_normalized)"
   ]
  },
  {
   "cell_type": "code",
   "execution_count": 6,
   "metadata": {},
   "outputs": [],
   "source": [
    "#Random Initialization of weights,bias\n",
    "def random(v):\n",
    "    w = np.zeros((v,1))\n",
    "    b = 0\n",
    "    return w,b\n",
    "\n",
    "#Hypothesis Function\n",
    "def linear(X,w,b):\n",
    "    return np.dot(X,w) + b\n",
    "\n",
    "# Sigmoid Function\n",
    "def sigmoid(z):\n",
    "    return 1/(1+np.exp(-z))"
   ]
  },
  {
   "cell_type": "markdown",
   "metadata": {},
   "source": [
    "<h3>Logistic Model</h3>\n"
   ]
  },
  {
   "cell_type": "code",
   "execution_count": 7,
   "metadata": {},
   "outputs": [],
   "source": [
    "\n",
    "# print(X_train)\n",
    "y_train_np = y_train.to_numpy().reshape(460,1)\n",
    "# print(y_train_np.shape)\n",
    "y_val_np = y_val.to_numpy().reshape(52,1)\n",
    "# print(y_val_np.shape)\n",
    "y_test_np = y_test.to_numpy().reshape(57,1)\n",
    "# print(y_test_np.shape)\n",
    "\n",
    "\n",
    "\n",
    "epochs = 10000\n",
    "training_models = {}\n",
    "validion_models = {}\n",
    "learningrate = [0.001]\n",
    "losstrack=[]\n",
    "validation_acc = []\n",
    "validation_cost = []\n",
    "training_cost = []\n",
    "training_acc = []\n",
    "training_loss_track = []\n",
    "validation_loss_track = []\n",
    "\n",
    "w,b = random(X_train_normalized.shape[1])\n",
    "m = len(X_train_normalized)\n",
    "# print(w.shape)\n",
    "for i in range(len(learningrate)):\n",
    "    validation_acc = []\n",
    "    validation_cost = []\n",
    "    training_cost = []\n",
    "    training_acc = []\n",
    "    for epoch in range(1000):\n",
    "        z = linear(X_train_normalized,w,b)\n",
    "        a = sigmoid(z)\n",
    "        loss = -(np.sum(y_train_np*np.log(a) + (1-y_train_np)*np.log(1-a))/m)\n",
    "        #print(loss)\n",
    "        training_loss_track.append(loss)\n",
    "        \n",
    "        z_val = linear(X_val_normalized,w,b)\n",
    "        a_val = sigmoid(z_val)\n",
    "        loss_val = -(np.sum(y_val_np*np.log(a_val) + (1-y_val_np)*np.log(1-a_val))/m)\n",
    "        validation_loss_track.append(loss_val)\n",
    "    \n",
    "        \n",
    "        dz = a-y_train_np\n",
    "        dw = np.dot(np.transpose(X_train_normalized),dz)/m\n",
    "        db = np.sum(dz)/m\n",
    "        w = w - learningrate[i] * dw\n",
    "        b = b - learningrate[i] * db    \n",
    "      "
   ]
  },
  {
   "cell_type": "markdown",
   "metadata": {},
   "source": [
    "<h3> Test Accuracy Prediction</h3>"
   ]
  },
  {
   "cell_type": "code",
   "execution_count": 8,
   "metadata": {},
   "outputs": [
    {
     "name": "stdout",
     "output_type": "stream",
     "text": [
      "96.49122807017544\n"
     ]
    }
   ],
   "source": [
    "z = linear(X_test_normalized,w,b)\n",
    "a = sigmoid(z)\n",
    "test_prediction = np.array([1 if x>=0.5 else 0 for x in a])\n",
    "test_accuracy = (100 - np.mean(np.abs(test_prediction - y_test_np.T[0]))*100)\n",
    "print(test_accuracy)"
   ]
  },
  {
   "cell_type": "markdown",
   "metadata": {},
   "source": [
    "<h3>Graph Between Epoch and Accuracy</h3>"
   ]
  },
  {
   "cell_type": "code",
   "execution_count": 9,
   "metadata": {},
   "outputs": [
    {
     "data": {
      "image/png": "[encoded data removed]",
      "text/plain": [
       "<Figure size 432x288 with 1 Axes>"
      ]
     },
     "metadata": {
      "needs_background": "light"
     },
     "output_type": "display_data"
    }
   ],
   "source": [
    "%matplotlib inline\n",
    "import matplotlib.pyplot as plt\n",
    "plt.plot(training_loss_track)\n",
    "plt.plot(validation_loss_track)\n",
    "plt.ylabel('Accuracy')\n",
    "plt.xlabel('Epoch')\n",
    "plt.title(\"Eoch Vs Loss\")\n",
    "plt.legend(['validation_loss','training_loss'], loc='upper right')\n",
    "plt.show()"
   ]
  },
  {
   "cell_type": "markdown",
   "metadata": {},
   "source": [
    "<h3> Graph between Epoch and Training loss</h3>"
   ]
  },
  {
   "cell_type": "code",
   "execution_count": 10,
   "metadata": {},
   "outputs": [
    {
     "data": {
      "image/png": "[encoded data removed]",
      "text/plain": [
       "<Figure size 432x288 with 1 Axes>"
      ]
     },
     "metadata": {
      "needs_background": "light"
     },
     "output_type": "display_data"
    }
   ],
   "source": [
    "%matplotlib inline\n",
    "import matplotlib.pyplot as plt\n",
    "plt.plot('Lo')\n",
    "plt.plot(training_loss_track)\n",
    "plt.ylabel('Training loss')\n",
    "plt.xlabel('Epoch')\n",
    "plt.title(\"Eoch Vs Training Loss\")\n",
    "plt.show()"
   ]
  },
  {
   "cell_type": "markdown",
   "metadata": {},
   "source": [
    "<h3>Graph between Epoch and Validation loss</h3>"
   ]
  },
  {
   "cell_type": "code",
   "execution_count": 11,
   "metadata": {
    "scrolled": true
   },
   "outputs": [
    {
     "data": {
      "image/png": "[encoded data removed]",
      "text/plain": [
       "<Figure size 432x288 with 1 Axes>"
      ]
     },
     "metadata": {
      "needs_background": "light"
     },
     "output_type": "display_data"
    }
   ],
   "source": [
    "%matplotlib inline\n",
    "import matplotlib.pyplot as plt\n",
    "plt.plot(validation_loss_track)\n",
    "plt.ylabel('Validation loss')\n",
    "plt.xlabel('Epoch')\n",
    "plt.title(\"Eoch Vs Validation Loss\")\n",
    "plt.show()"
   ]
  },
  {
   "cell_type": "markdown",
   "metadata": {},
   "source": [
    "<h3> Calculation of Accuracy, Precision and Recall</h3>"
   ]
  },
  {
   "cell_type": "code",
   "execution_count": 12,
   "metadata": {},
   "outputs": [
    {
     "name": "stdout",
     "output_type": "stream",
     "text": [
      "Accuracy: 0.9649122807017544\n",
      "Precision: 1.0\n",
      "Recall: 0.9130434782608695\n"
     ]
    }
   ],
   "source": [
    "from sklearn.metrics import confusion_matrix\n",
    "tn, fp, fn, tp = confusion_matrix(test_prediction, y_test).ravel()\n",
    "accuracy = (tp+tn)/(tn+fp+fn+tp)\n",
    "precision = tp/(tp+fp)\n",
    "recall = tp/(tp+fn)\n",
    "print('Accuracy: '+str(accuracy))\n",
    "print('Precision: '+str(precision))\n",
    "print('Recall: '+str(recall))"
   ]
  }
 ],
 "metadata": {
  "kernelspec": {
   "display_name": "Python 3",
   "language": "python",
   "name": "python3"
  },
  "language_info": {
   "codemirror_mode": {
    "name": "ipython",
    "version": 3
   },
   "file_extension": ".py",
   "mimetype": "text/x-python",
   "name": "python",
   "nbconvert_exporter": "python",
   "pygments_lexer": "ipython3",
   "version": "3.7.3"
  }
 },
 "nbformat": 4,
 "nbformat_minor": 2
}
