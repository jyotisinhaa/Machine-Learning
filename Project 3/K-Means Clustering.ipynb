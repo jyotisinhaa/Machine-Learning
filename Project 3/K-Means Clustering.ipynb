{
 "cells": [
  {
   "cell_type": "markdown",
   "metadata": {},
   "source": [
    "<h2> Task1 </h2>"
   ]
  },
  {
   "cell_type": "markdown",
   "metadata": {},
   "source": [
    "<h3>Importing Libraries</h3>"
   ]
  },
  {
   "cell_type": "code",
   "execution_count": 1,
   "metadata": {},
   "outputs": [],
   "source": [
    "import sys\n",
    "import numpy as np\n",
    "import pandas as pd\n",
    "import sklearn\n",
    "import matplotlib as plt\n",
    "from sklearn.metrics import accuracy_score\n",
    "from sklearn.preprocessing import MinMaxScaler"
   ]
  },
  {
   "cell_type": "markdown",
   "metadata": {},
   "source": [
    "<h3> Import data </h3>"
   ]
  },
  {
   "cell_type": "code",
   "execution_count": 2,
   "metadata": {},
   "outputs": [],
   "source": [
    "import util_mnist_reader as mnist_reader\n",
    "p_train, q_train = mnist_reader.load_mnist('/Users/Jyoti/Downloads/data_with_notebook/data/fashion', kind='train')\n",
    "p_test, q_test = mnist_reader.load_mnist('/Users/Jyoti/Downloads/data_with_notebook/data/fashion', kind='t10k')"
   ]
  },
  {
   "cell_type": "markdown",
   "metadata": {},
   "source": [
    "<h3>Normalization</h3>"
   ]
  },
  {
   "cell_type": "code",
   "execution_count": 3,
   "metadata": {},
   "outputs": [],
   "source": [
    "from sklearn import preprocessing\n",
    "from sklearn.preprocessing import MinMaxScaler\n",
    "min_max_scaler = preprocessing.MinMaxScaler()\n",
    "p_train = min_max_scaler.fit_transform(p_train)  \n",
    "p_test = min_max_scaler.fit_transform(p_test)"
   ]
  },
  {
   "cell_type": "markdown",
   "metadata": {},
   "source": [
    "<h3>Clustering</h3>"
   ]
  },
  {
   "cell_type": "code",
   "execution_count": 4,
   "metadata": {},
   "outputs": [],
   "source": [
    "from sklearn.cluster import KMeans\n",
    "n= (np.max(q_train))+1\n",
    "kmeans=KMeans(n_clusters=n,random_state=0,algorithm='full',verbose=1,max_iter=5,n_init=10,n_jobs=-1)\n",
    "kmeans.fit(p_train)\n",
    "kmeans.labels_\n",
    "q_pred=kmeans.predict(p_test)"
   ]
  },
  {
   "cell_type": "markdown",
   "metadata": {},
   "source": [
    "<h3>Accuracy Calculation</h3>"
   ]
  },
  {
   "cell_type": "code",
   "execution_count": 5,
   "metadata": {},
   "outputs": [
    {
     "name": "stdout",
     "output_type": "stream",
     "text": [
      "Accuracy:0.5188523502154055\n",
      "[7 4 1 ... 3 1 5]\n",
      "Accuracy:0.5705\n"
     ]
    }
   ],
   "source": [
    "from scipy.stats import mode\n",
    "from sklearn import metrics\n",
    "accuracy=(metrics.completeness_score(q_test,q_pred,))\n",
    "print(\"Accuracy:\"+ str(accuracy))\n",
    "labels=np.zeros_like(q_pred)\n",
    "for i in range(10):\n",
    "   mask=(q_pred==i)      # Matching of learned cluster labels with the true labels\n",
    "   labels[mask]=mode(q_test[mask])[0]\n",
    "print(labels)\n",
    "acc_score=metrics.accuracy_score(q_test,labels)\n",
    "print(\"Accuracy:\"+ str(acc_score))"
   ]
  },
  {
   "cell_type": "markdown",
   "metadata": {},
   "source": [
    "<h2>Task 2 </h2>"
   ]
  },
  {
   "cell_type": "markdown",
   "metadata": {},
   "source": [
    "<h3> importing datasets</h3>\n"
   ]
  },
  {
   "cell_type": "code",
   "execution_count": 6,
   "metadata": {},
   "outputs": [],
   "source": [
    "import util_mnist_reader as mnist_reader\n",
    "X_train, y_train = mnist_reader.load_mnist('/Users/Jyoti/Downloads/data_with_notebook/data/fashion', kind='train')\n",
    "X_test, y_test = mnist_reader.load_mnist('/Users/Jyoti/Downloads/data_with_notebook/data/fashion', kind='t10k')"
   ]
  },
  {
   "cell_type": "markdown",
   "metadata": {},
   "source": [
    "<h3>Importing Libraries</h3>"
   ]
  },
  {
   "cell_type": "code",
   "execution_count": 7,
   "metadata": {},
   "outputs": [
    {
     "name": "stderr",
     "output_type": "stream",
     "text": [
      "Using TensorFlow backend.\n"
     ]
    }
   ],
   "source": [
    "from keras.layers import Dense\n",
    "from keras.models import Input,Model\n",
    "import json\n",
    "from keras import backend as K\n",
    "from sklearn.metrics import confusion_matrix"
   ]
  },
  {
   "cell_type": "markdown",
   "metadata": {},
   "source": [
    "<h3>Pre-processing of dataset</h3>"
   ]
  },
  {
   "cell_type": "code",
   "execution_count": 8,
   "metadata": {},
   "outputs": [],
   "source": [
    "X_train = X_train.astype(\"float32\")/255.0\n",
    "X_test = X_test.astype(\"float32\")/255.0"
   ]
  },
  {
   "cell_type": "markdown",
   "metadata": {},
   "source": [
    "<h3>Encoding</h3>"
   ]
  },
  {
   "cell_type": "code",
   "execution_count": 9,
   "metadata": {},
   "outputs": [],
   "source": [
    "input_image = Input(shape=(784,))\n",
    "encoding = Dense(32, activation=\"relu\")(input_image)\n",
    "encoding = Dense(16, activation=\"relu\")(encoding)\n",
    "decoding = Dense(32, activation=\"relu\")(encoding)\n",
    "output_image = Dense(784, activation=\"sigmoid\")(decoding)\n",
    "autoencoder_model = Model(input_image, output_image)\n",
    "autoencoder_model.compile(optimizer=\"rmsprop\", loss=\"binary_crossentropy\",metrics=[\"accuracy\"])\n"
   ]
  },
  {
   "cell_type": "code",
   "execution_count": 10,
   "metadata": {},
   "outputs": [
    {
     "name": "stdout",
     "output_type": "stream",
     "text": [
      "Train on 60000 samples, validate on 60000 samples\n",
      "Epoch 1/10\n",
      "60000/60000 [==============================] - 5s 88us/step - loss: 0.3996 - accuracy: 0.4861 - val_loss: 0.3472 - val_accuracy: 0.4946\n",
      "Epoch 2/10\n",
      "60000/60000 [==============================] - 5s 89us/step - loss: 0.3332 - accuracy: 0.5004 - val_loss: 0.3296 - val_accuracy: 0.4985\n",
      "Epoch 3/10\n",
      "60000/60000 [==============================] - 5s 91us/step - loss: 0.3224 - accuracy: 0.5022 - val_loss: 0.3186 - val_accuracy: 0.5044\n",
      "Epoch 4/10\n",
      "60000/60000 [==============================] - 5s 90us/step - loss: 0.3173 - accuracy: 0.5031 - val_loss: 0.3167 - val_accuracy: 0.5015\n",
      "Epoch 5/10\n",
      "60000/60000 [==============================] - 5s 81us/step - loss: 0.3137 - accuracy: 0.5037 - val_loss: 0.3126 - val_accuracy: 0.5054\n",
      "Epoch 6/10\n",
      "60000/60000 [==============================] - 5s 81us/step - loss: 0.3112 - accuracy: 0.5041 - val_loss: 0.3107 - val_accuracy: 0.5030\n",
      "Epoch 7/10\n",
      "60000/60000 [==============================] - 5s 82us/step - loss: 0.3090 - accuracy: 0.5044 - val_loss: 0.3063 - val_accuracy: 0.5043\n",
      "Epoch 8/10\n",
      "60000/60000 [==============================] - 4s 75us/step - loss: 0.3072 - accuracy: 0.5047 - val_loss: 0.3056 - val_accuracy: 0.5059\n",
      "Epoch 9/10\n",
      "60000/60000 [==============================] - 5s 75us/step - loss: 0.3056 - accuracy: 0.5050 - val_loss: 0.3047 - val_accuracy: 0.5062\n",
      "Epoch 10/10\n",
      "60000/60000 [==============================] - 4s 74us/step - loss: 0.3042 - accuracy: 0.5053 - val_loss: 0.3058 - val_accuracy: 0.5035\n"
     ]
    }
   ],
   "source": [
    "history = autoencoder_model.fit(X_train, X_train, \n",
    "                          epochs=10, \n",
    "                          batch_size=256, \n",
    "                          shuffle=True,\n",
    "                          validation_data=(X_train, X_train))"
   ]
  },
  {
   "cell_type": "code",
   "execution_count": 11,
   "metadata": {},
   "outputs": [
    {
     "name": "stdout",
     "output_type": "stream",
     "text": [
      "[9 4 1 ... 6 1 5]\n"
     ]
    }
   ],
   "source": [
    "restoring_testdata = autoencoder_model.predict(X_test)\n",
    "encoding = K.function([autoencoder_model.layers[0].input], [autoencoder_model.layers[4].output])\n",
    "encoding_images = encoding([X_test])[0].reshape(-1,784)\n",
    "kmeans = KMeans(n_clusters=10)\n",
    "y_pred = kmeans.fit_predict(encoding_images)\n",
    "labels=np.zeros_like(y_pred)\n",
    "for i in range(10):        # ## Matching the learned cluster labels with the true cluster labels\n",
    "    mask=(y_pred==i)\n",
    "    labels[mask]=mode(y_test[mask])[0]\n",
    "print(labels)                                "
   ]
  },
  {
   "cell_type": "markdown",
   "metadata": {},
   "source": [
    "<h3>Confusion Matrix</h3>"
   ]
  },
  {
   "cell_type": "code",
   "execution_count": 12,
   "metadata": {},
   "outputs": [
    {
     "name": "stdout",
     "output_type": "stream",
     "text": [
      "[[ 53  46  18   0   6   1 227 644   5   0]\n",
      " [ 10  12 883   0   0   0  31  63   1   0]\n",
      " [ 28 641   3   0   6   0 297  19   6   0]\n",
      " [ 43  15 476   0   4   0 133 329   0   0]\n",
      " [ 31 687  20   0   5   0 110 143   4   0]\n",
      " [678   0   0  62   0 202   8   0   0  50]\n",
      " [ 79 369  11   0   4   0 304 216  17   0]\n",
      " [ 59   0   0 165   0 774   0   0   0   2]\n",
      " [ 34  65   2   6 408  34  82   4 364   1]\n",
      " [ 23   0   0 579   0  24   4   1   0 369]]\n",
      "0.543157973637945\n"
     ]
    }
   ],
   "source": [
    "confusion_matrix = confusion_matrix(y_test,y_pred)\n",
    "print(confusion_matrix)\n",
    "print(metrics.completeness_score(y_test,y_pred))"
   ]
  },
  {
   "cell_type": "markdown",
   "metadata": {},
   "source": [
    "<h3>Graphs</h3>"
   ]
  },
  {
   "cell_type": "code",
   "execution_count": 13,
   "metadata": {},
   "outputs": [
    {
     "data": {
      "image/png": "[encoded data removed]",
      "text/plain": [
       "<Figure size 432x288 with 1 Axes>"
      ]
     },
     "metadata": {
      "needs_background": "light"
     },
     "output_type": "display_data"
    }
   ],
   "source": [
    "%matplotlib inline\n",
    "import matplotlib.pyplot as plt\n",
    "plt.plot(history.history['loss'])\n",
    "plt.ylabel('loss')\n",
    "plt.xlabel('epoch')\n",
    "plt.show()\n"
   ]
  },
  {
   "cell_type": "code",
   "execution_count": 14,
   "metadata": {},
   "outputs": [
    {
     "data": {
      "image/png": "[encoded data removed]",
      "text/plain": [
       "<Figure size 432x288 with 1 Axes>"
      ]
     },
     "metadata": {
      "needs_background": "light"
     },
     "output_type": "display_data"
    }
   ],
   "source": [
    "%matplotlib inline\n",
    "import matplotlib.pyplot as plt\n",
    "plt.plot(history.history['val_loss'])\n",
    "plt.ylabel('validation loss')\n",
    "plt.xlabel('epoch')\n",
    "plt.show()\n"
   ]
  },
  {
   "cell_type": "code",
   "execution_count": 15,
   "metadata": {},
   "outputs": [
    {
     "data": {
      "image/png": "[encoded data removed]",
      "text/plain": [
       "<Figure size 432x288 with 1 Axes>"
      ]
     },
     "metadata": {
      "needs_background": "light"
     },
     "output_type": "display_data"
    }
   ],
   "source": [
    "%matplotlib inline\n",
    "import matplotlib.pyplot as plt\n",
    "plt.plot(history.history['accuracy'])\n",
    "plt.ylabel('accuracy')\n",
    "plt.xlabel('epoch')\n",
    "plt.show()\n"
   ]
  },
  {
   "cell_type": "code",
   "execution_count": 16,
   "metadata": {},
   "outputs": [
    {
     "data": {
      "image/png": "[encoded data removed]",
      "text/plain": [
       "<Figure size 432x288 with 1 Axes>"
      ]
     },
     "metadata": {
      "needs_background": "light"
     },
     "output_type": "display_data"
    }
   ],
   "source": [
    "plt.plot(history.history[\"loss\"], label=\"Train Loss\")\n",
    "plt.plot(history.history[\"val_loss\"], label=\"Validation Loss\")\n",
    "plt.legend()\n",
    "plt.show()"
   ]
  },
  {
   "cell_type": "code",
   "execution_count": 17,
   "metadata": {},
   "outputs": [
    {
     "data": {
      "image/png": "[encoded data removed]",
      "text/plain": [
       "<Figure size 432x288 with 1 Axes>"
      ]
     },
     "metadata": {
      "needs_background": "light"
     },
     "output_type": "display_data"
    }
   ],
   "source": [
    "image=X_train[2500,:].reshape((28,28))\n",
    "plt.imshow(image)\n",
    "plt.show()"
   ]
  },
  {
   "cell_type": "code",
   "execution_count": 18,
   "metadata": {},
   "outputs": [
    {
     "data": {
      "image/png": "[encoded data removed]",
      "text/plain": [
       "<Figure size 432x288 with 1 Axes>"
      ]
     },
     "metadata": {
      "needs_background": "light"
     },
     "output_type": "display_data"
    }
   ],
   "source": [
    "image=X_train[1500,:].reshape((28,28))\n",
    "plt.imshow(image)\n",
    "plt.show()"
   ]
  },
  {
   "cell_type": "markdown",
   "metadata": {},
   "source": [
    "<h2> Task 3</h2>"
   ]
  },
  {
   "cell_type": "markdown",
   "metadata": {},
   "source": [
    "<h3> Importing Libraries</h3>"
   ]
  },
  {
   "cell_type": "code",
   "execution_count": 19,
   "metadata": {},
   "outputs": [],
   "source": [
    "from keras.layers import Input, Dense\n",
    "from keras.models import Model\n",
    "from keras import regularizers\n",
    "from keras.datasets import mnist\n",
    "import util_mnist_reader as mnist_reader"
   ]
  },
  {
   "cell_type": "markdown",
   "metadata": {},
   "source": [
    "<h3> Importing dataset</h3>"
   ]
  },
  {
   "cell_type": "code",
   "execution_count": 20,
   "metadata": {},
   "outputs": [],
   "source": [
    "j_train, k_train = mnist_reader.load_mnist('/Users/Jyoti/Downloads/data_with_notebook/data/fashion', kind='train')\n",
    "j_test, k_test = mnist_reader.load_mnist('/Users/Jyoti/Downloads/data_with_notebook/data/fashion', kind='t10k')\n",
    "j_train=j_train/255\n",
    "j_test=j_test/255\n",
    "j_train = j_train.reshape((len(j_train),np.prod(j_train.shape[1:])))\n",
    "j_test = j_test.reshape((len(j_test),np.prod(j_test.shape[1:])))"
   ]
  },
  {
   "cell_type": "markdown",
   "metadata": {},
   "source": [
    "<h3>Encoding</h3>"
   ]
  },
  {
   "cell_type": "code",
   "execution_count": 21,
   "metadata": {},
   "outputs": [],
   "source": [
    "encoding_dimension = 6\n",
    "input_image = Input(shape=(784,))\n",
    "decording = Dense(256, activation = 'selu')(input_image)\n",
    "decording= Dense(128,activation='selu')(decording)\n",
    "\n",
    "encoding= Dense(encoding_dimension, activation='selu',kernel_regularizer = regularizers.l2(0.01))(decording)\n",
    "decording=Dense(128,activation='selu')(encoding)\n",
    "decording=Dense(256,activation='selu')(decording)\n",
    "decording=Dense(784,activation='sigmoid')(decording)\n",
    "autoencoder_gaussian_model=Model(input_image,decording)\n",
    "encoding = Model(input_image, encoding)\n",
    "encoding_input = Input(shape=(encoding_dimension,))\n",
    "decording = autoencoder_gaussian_model.layers[-3](encoding_input)\n",
    "decording = autoencoder_gaussian_model.layers[-2](decording)\n",
    "decording = autoencoder_gaussian_model.layers[-1](decording)"
   ]
  },
  {
   "cell_type": "markdown",
   "metadata": {},
   "source": [
    "<h3>Training the model</h3>"
   ]
  },
  {
   "cell_type": "code",
   "execution_count": 22,
   "metadata": {},
   "outputs": [
    {
     "name": "stdout",
     "output_type": "stream",
     "text": [
      "Train on 60000 samples, validate on 10000 samples\n",
      "Epoch 1/20\n",
      "60000/60000 [==============================] - 8s 127us/step - loss: 0.6045 - accuracy: 0.4545 - val_loss: 0.4754 - val_accuracy: 0.4907\n",
      "Epoch 2/20\n",
      "60000/60000 [==============================] - 7s 119us/step - loss: 0.4430 - accuracy: 0.4939 - val_loss: 0.4216 - val_accuracy: 0.4936\n",
      "Epoch 3/20\n",
      "60000/60000 [==============================] - 7s 117us/step - loss: 0.4062 - accuracy: 0.4948 - val_loss: 0.3945 - val_accuracy: 0.4912\n",
      "Epoch 4/20\n",
      "60000/60000 [==============================] - 7s 118us/step - loss: 0.3823 - accuracy: 0.4964 - val_loss: 0.3736 - val_accuracy: 0.4963\n",
      "Epoch 5/20\n",
      "60000/60000 [==============================] - 7s 119us/step - loss: 0.3656 - accuracy: 0.4978 - val_loss: 0.3610 - val_accuracy: 0.4961\n",
      "Epoch 6/20\n",
      "60000/60000 [==============================] - 7s 119us/step - loss: 0.3557 - accuracy: 0.4982 - val_loss: 0.3535 - val_accuracy: 0.4973\n",
      "Epoch 7/20\n",
      "60000/60000 [==============================] - 7s 117us/step - loss: 0.3491 - accuracy: 0.4985 - val_loss: 0.3479 - val_accuracy: 0.4968\n",
      "Epoch 8/20\n",
      "60000/60000 [==============================] - 8s 130us/step - loss: 0.3448 - accuracy: 0.4988 - val_loss: 0.3443 - val_accuracy: 0.4958\n",
      "Epoch 9/20\n",
      "60000/60000 [==============================] - 7s 120us/step - loss: 0.3401 - accuracy: 0.4994 - val_loss: 0.3389 - val_accuracy: 0.4978\n",
      "Epoch 10/20\n",
      "60000/60000 [==============================] - 7s 119us/step - loss: 0.3342 - accuracy: 0.5000 - val_loss: 0.3326 - val_accuracy: 0.4987\n",
      "Epoch 11/20\n",
      "60000/60000 [==============================] - 7s 119us/step - loss: 0.3283 - accuracy: 0.5009 - val_loss: 0.3275 - val_accuracy: 0.4993\n",
      "Epoch 12/20\n",
      "60000/60000 [==============================] - 7s 118us/step - loss: 0.3240 - accuracy: 0.5019 - val_loss: 0.3243 - val_accuracy: 0.5007\n",
      "Epoch 13/20\n",
      "60000/60000 [==============================] - 7s 120us/step - loss: 0.3209 - accuracy: 0.5024 - val_loss: 0.3217 - val_accuracy: 0.5008\n",
      "Epoch 14/20\n",
      "60000/60000 [==============================] - 7s 119us/step - loss: 0.3190 - accuracy: 0.5027 - val_loss: 0.3198 - val_accuracy: 0.5004\n",
      "Epoch 15/20\n",
      "60000/60000 [==============================] - 7s 118us/step - loss: 0.3170 - accuracy: 0.5030 - val_loss: 0.3180 - val_accuracy: 0.5010\n",
      "Epoch 16/20\n",
      "60000/60000 [==============================] - 7s 119us/step - loss: 0.3158 - accuracy: 0.5031 - val_loss: 0.3168 - val_accuracy: 0.5009\n",
      "Epoch 17/20\n",
      "60000/60000 [==============================] - 7s 119us/step - loss: 0.3142 - accuracy: 0.5034 - val_loss: 0.3156 - val_accuracy: 0.5010\n",
      "Epoch 18/20\n",
      "60000/60000 [==============================] - 7s 119us/step - loss: 0.3130 - accuracy: 0.5036 - val_loss: 0.3144 - val_accuracy: 0.5012\n",
      "Epoch 19/20\n",
      "60000/60000 [==============================] - 7s 119us/step - loss: 0.3120 - accuracy: 0.5037 - val_loss: 0.3133 - val_accuracy: 0.5015\n",
      "Epoch 20/20\n",
      "60000/60000 [==============================] - 7s 120us/step - loss: 0.3108 - accuracy: 0.5039 - val_loss: 0.3123 - val_accuracy: 0.5018\n",
      "[9 2 1 ... 2 1 7]\n"
     ]
    }
   ],
   "source": [
    "from sklearn import mixture\n",
    "decoder=Model(encoding_input,decording)\n",
    "autoencoder_gaussian_model.compile(optimizer='adam',loss='binary_crossentropy', metrics=['accuracy'])\n",
    "autoencoder_gaussian_model.fit(j_train, j_train, epochs=20, batch_size=2056,shuffle=True,validation_data=(j_test,j_test))\n",
    "encoded_image=autoencoder_gaussian_model.predict(j_test)\n",
    "clf = mixture.GaussianMixture(n_components=10)\n",
    "k_pred = clf.fit_predict(encoded_image)\n",
    "labels=np.zeros_like(k_pred)\n",
    "for i in range(10):   ## Matching the learned cluster labels with the true cluster labels\n",
    "    mask=(k_pred==i)\n",
    "    labels[mask]=mode(k_test[mask])[0]\n",
    "print(labels)"
   ]
  },
  {
   "cell_type": "markdown",
   "metadata": {},
   "source": [
    "<h3>Confusion Matrix</h3>"
   ]
  },
  {
   "cell_type": "code",
   "execution_count": 23,
   "metadata": {},
   "outputs": [
    {
     "name": "stdout",
     "output_type": "stream",
     "text": [
      "[[ 20   6   4   1 750  63   0   0 125  31]\n",
      " [884   0   0   0   9  14   0   0  81  12]\n",
      " [  2  18   4   0  15 234   0   0  66 661]\n",
      " [446   7   1   0  32  22   0   0 477  15]\n",
      " [ 16  12   5   0   0  91   0   0 219 657]\n",
      " [  0   0   0 551   0 230 156  63   0   0]\n",
      " [  9   9  12   2 202 231   0   0 150 385]\n",
      " [  0   0   1 793   0   0 203   3   0   0]\n",
      " [  3 428 360  40   3  77  21   1  15  52]\n",
      " [  0   3   0  15   0  15 516 447   4   0]]\n",
      "0.5601528678637965\n"
     ]
    }
   ],
   "source": [
    "from sklearn.metrics import confusion_matrix\n",
    "confusion_matrix_guassian = confusion_matrix(k_test,k_pred)\n",
    "print(confusion_matrix_guassian)\n",
    "print(metrics.completeness_score(k_test,k_pred))*100"
   ]
  },
  {
   "cell_type": "markdown",
   "metadata": {},
   "source": [
    "<h3>Graph</h3>"
   ]
  },
  {
   "cell_type": "code",
   "execution_count": 24,
   "metadata": {},
   "outputs": [
    {
     "data": {
      "image/png": "[encoded data removed]",
      "text/plain": [
       "<Figure size 432x288 with 1 Axes>"
      ]
     },
     "metadata": {
      "needs_background": "light"
     },
     "output_type": "display_data"
    }
   ],
   "source": [
    "%matplotlib inline\n",
    "import matplotlib.pyplot as plt\n",
    "plt.plot(history.history['accuracy'])\n",
    "plt.ylabel('accuracy')\n",
    "plt.xlabel('epoch')\n",
    "plt.show()"
   ]
  },
  {
   "cell_type": "code",
   "execution_count": 25,
   "metadata": {},
   "outputs": [
    {
     "data": {
      "image/png": "[encoded data removed]",
      "text/plain": [
       "<Figure size 432x288 with 1 Axes>"
      ]
     },
     "metadata": {
      "needs_background": "light"
     },
     "output_type": "display_data"
    }
   ],
   "source": [
    "%matplotlib inline\n",
    "import matplotlib.pyplot as plt\n",
    "plt.plot(history.history['val_loss'])\n",
    "plt.ylabel('val_loss')\n",
    "plt.xlabel('epoch')\n",
    "plt.show()"
   ]
  },
  {
   "cell_type": "code",
   "execution_count": 26,
   "metadata": {},
   "outputs": [
    {
     "data": {
      "image/png": "[encoded data removed]",
      "text/plain": [
       "<Figure size 432x288 with 1 Axes>"
      ]
     },
     "metadata": {
      "needs_background": "light"
     },
     "output_type": "display_data"
    }
   ],
   "source": [
    "plt.plot(history.history[\"loss\"], label=\"Train Loss\")\n",
    "plt.plot(history.history[\"val_loss\"], label=\"Validation Loss\")\n",
    "plt.legend()\n",
    "plt.show()"
   ]
  }
 ],
 "metadata": {
  "kernelspec": {
   "display_name": "Python 3",
   "language": "python",
   "name": "python3"
  },
  "language_info": {
   "codemirror_mode": {
    "name": "ipython",
    "version": 3
   },
   "file_extension": ".py",
   "mimetype": "text/x-python",
   "name": "python",
   "nbconvert_exporter": "python",
   "pygments_lexer": "ipython3",
   "version": "3.7.3"
  }
 },
 "nbformat": 4,
 "nbformat_minor": 2
}
